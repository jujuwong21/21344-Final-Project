{
 "cells": [
  {
   "cell_type": "code",
   "execution_count": 1,
   "metadata": {},
   "outputs": [],
   "source": [
    "import numpy as np\n",
    "import pandas as pd\n",
    "import math\n",
    "import matplotlib.pyplot as plt\n",
    "import scipy.stats"
   ]
  },
  {
   "cell_type": "markdown",
   "metadata": {},
   "source": [
    "# Importing data"
   ]
  },
  {
   "cell_type": "code",
   "execution_count": 2,
   "metadata": {
    "scrolled": false
   },
   "outputs": [
    {
     "data": {
      "text/html": [
       "<div>\n",
       "<style scoped>\n",
       "    .dataframe tbody tr th:only-of-type {\n",
       "        vertical-align: middle;\n",
       "    }\n",
       "\n",
       "    .dataframe tbody tr th {\n",
       "        vertical-align: top;\n",
       "    }\n",
       "\n",
       "    .dataframe thead th {\n",
       "        text-align: right;\n",
       "    }\n",
       "</style>\n",
       "<table border=\"1\" class=\"dataframe\">\n",
       "  <thead>\n",
       "    <tr style=\"text-align: right;\">\n",
       "      <th></th>\n",
       "      <th>Date</th>\n",
       "      <th>Weather</th>\n",
       "      <th>High</th>\n",
       "      <th>Low</th>\n",
       "      <th>Precipitation (in)</th>\n",
       "      <th>Wunderground?</th>\n",
       "    </tr>\n",
       "  </thead>\n",
       "  <tbody>\n",
       "    <tr>\n",
       "      <th>0</th>\n",
       "      <td>2019-05-10</td>\n",
       "      <td>Cloudy</td>\n",
       "      <td>58</td>\n",
       "      <td>40</td>\n",
       "      <td>0.0</td>\n",
       "      <td>No</td>\n",
       "    </tr>\n",
       "    <tr>\n",
       "      <th>1</th>\n",
       "      <td>2019-05-11</td>\n",
       "      <td>Partly Cloudy</td>\n",
       "      <td>55</td>\n",
       "      <td>35</td>\n",
       "      <td>0.0</td>\n",
       "      <td>No</td>\n",
       "    </tr>\n",
       "    <tr>\n",
       "      <th>2</th>\n",
       "      <td>2019-05-12</td>\n",
       "      <td>Mostly Sunny</td>\n",
       "      <td>59</td>\n",
       "      <td>35</td>\n",
       "      <td>0.0</td>\n",
       "      <td>No</td>\n",
       "    </tr>\n",
       "    <tr>\n",
       "      <th>3</th>\n",
       "      <td>2019-05-13</td>\n",
       "      <td>Mostly Sunny</td>\n",
       "      <td>63</td>\n",
       "      <td>42</td>\n",
       "      <td>0.0</td>\n",
       "      <td>No</td>\n",
       "    </tr>\n",
       "    <tr>\n",
       "      <th>4</th>\n",
       "      <td>2019-05-14</td>\n",
       "      <td>Mostly Cloudy</td>\n",
       "      <td>64</td>\n",
       "      <td>43</td>\n",
       "      <td>0.0</td>\n",
       "      <td>No</td>\n",
       "    </tr>\n",
       "  </tbody>\n",
       "</table>\n",
       "</div>"
      ],
      "text/plain": [
       "        Date        Weather  High  Low  Precipitation (in) Wunderground?\n",
       "0 2019-05-10         Cloudy    58   40                 0.0            No\n",
       "1 2019-05-11  Partly Cloudy    55   35                 0.0            No\n",
       "2 2019-05-12   Mostly Sunny    59   35                 0.0            No\n",
       "3 2019-05-13   Mostly Sunny    63   42                 0.0            No\n",
       "4 2019-05-14  Mostly Cloudy    64   43                 0.0            No"
      ]
     },
     "execution_count": 2,
     "metadata": {},
     "output_type": "execute_result"
    }
   ],
   "source": [
    "df = pd.read_excel(\"Weather_PGH.xlsx\")\n",
    "df.head() # to see what the dataset looks like"
   ]
  },
  {
   "cell_type": "code",
   "execution_count": 3,
   "metadata": {},
   "outputs": [
    {
     "data": {
      "text/plain": [
       "(731, 6)"
      ]
     },
     "execution_count": 3,
     "metadata": {},
     "output_type": "execute_result"
    }
   ],
   "source": [
    "df.shape # 731 days of data were used"
   ]
  },
  {
   "cell_type": "code",
   "execution_count": 4,
   "metadata": {
    "scrolled": true
   },
   "outputs": [
    {
     "data": {
      "text/html": [
       "<div>\n",
       "<style scoped>\n",
       "    .dataframe tbody tr th:only-of-type {\n",
       "        vertical-align: middle;\n",
       "    }\n",
       "\n",
       "    .dataframe tbody tr th {\n",
       "        vertical-align: top;\n",
       "    }\n",
       "\n",
       "    .dataframe thead th {\n",
       "        text-align: right;\n",
       "    }\n",
       "</style>\n",
       "<table border=\"1\" class=\"dataframe\">\n",
       "  <thead>\n",
       "    <tr style=\"text-align: right;\">\n",
       "      <th></th>\n",
       "      <th>Date</th>\n",
       "      <th>Weather</th>\n",
       "      <th>High</th>\n",
       "      <th>Low</th>\n",
       "      <th>Precipitation (in)</th>\n",
       "    </tr>\n",
       "    <tr>\n",
       "      <th>Wunderground?</th>\n",
       "      <th></th>\n",
       "      <th></th>\n",
       "      <th></th>\n",
       "      <th></th>\n",
       "      <th></th>\n",
       "    </tr>\n",
       "  </thead>\n",
       "  <tbody>\n",
       "    <tr>\n",
       "      <th>No</th>\n",
       "      <td>39</td>\n",
       "      <td>39</td>\n",
       "      <td>39</td>\n",
       "      <td>39</td>\n",
       "      <td>39</td>\n",
       "    </tr>\n",
       "    <tr>\n",
       "      <th>Yes</th>\n",
       "      <td>692</td>\n",
       "      <td>692</td>\n",
       "      <td>692</td>\n",
       "      <td>692</td>\n",
       "      <td>692</td>\n",
       "    </tr>\n",
       "  </tbody>\n",
       "</table>\n",
       "</div>"
      ],
      "text/plain": [
       "               Date  Weather  High  Low  Precipitation (in)\n",
       "Wunderground?                                              \n",
       "No               39       39    39   39                  39\n",
       "Yes             692      692   692  692                 692"
      ]
     },
     "execution_count": 4,
     "metadata": {},
     "output_type": "execute_result"
    }
   ],
   "source": [
    "# Not all the data could be obtained from Wunderground due to a bug in their system\n",
    "# The ones that are labeled as \"No\" were obtained from the Weather Channel\n",
    "df.groupby(\"Wunderground?\").count() "
   ]
  },
  {
   "cell_type": "markdown",
   "metadata": {},
   "source": [
    "# Converting Weather to an Integer Value"
   ]
  },
  {
   "cell_type": "markdown",
   "metadata": {},
   "source": [
    "To index into the matrix, I converted the weather states for each day into a non-negative integer value"
   ]
  },
  {
   "cell_type": "code",
   "execution_count": 5,
   "metadata": {},
   "outputs": [],
   "source": [
    "def weather_number(weather_name): \n",
    "    num = -1\n",
    "    if weather_name == \"Mostly Sunny\": \n",
    "        num = 0\n",
    "    elif weather_name == \"Partly Cloudy\":\n",
    "        num = 1\n",
    "    elif weather_name == \"Mostly Cloudy\":\n",
    "        num = 2\n",
    "    elif weather_name == \"Cloudy\": \n",
    "        num = 3\n",
    "    elif weather_name == \"Foggy\":\n",
    "        num = 4\n",
    "    elif weather_name == \"Scattered Showers\":\n",
    "        num = 5\n",
    "    elif weather_name == \"Thunderstorm\": \n",
    "        num = 6\n",
    "    elif weather_name == \"Snow\":\n",
    "        num = 7\n",
    "    return num"
   ]
  },
  {
   "cell_type": "code",
   "execution_count": 6,
   "metadata": {},
   "outputs": [
    {
     "data": {
      "text/html": [
       "<div>\n",
       "<style scoped>\n",
       "    .dataframe tbody tr th:only-of-type {\n",
       "        vertical-align: middle;\n",
       "    }\n",
       "\n",
       "    .dataframe tbody tr th {\n",
       "        vertical-align: top;\n",
       "    }\n",
       "\n",
       "    .dataframe thead th {\n",
       "        text-align: right;\n",
       "    }\n",
       "</style>\n",
       "<table border=\"1\" class=\"dataframe\">\n",
       "  <thead>\n",
       "    <tr style=\"text-align: right;\">\n",
       "      <th></th>\n",
       "      <th>Date</th>\n",
       "      <th>Weather</th>\n",
       "      <th>High</th>\n",
       "      <th>Low</th>\n",
       "      <th>Precipitation (in)</th>\n",
       "      <th>Wunderground?</th>\n",
       "      <th>weather_num</th>\n",
       "    </tr>\n",
       "  </thead>\n",
       "  <tbody>\n",
       "    <tr>\n",
       "      <th>0</th>\n",
       "      <td>2019-05-10</td>\n",
       "      <td>Cloudy</td>\n",
       "      <td>58</td>\n",
       "      <td>40</td>\n",
       "      <td>0.0</td>\n",
       "      <td>No</td>\n",
       "      <td>3</td>\n",
       "    </tr>\n",
       "    <tr>\n",
       "      <th>1</th>\n",
       "      <td>2019-05-11</td>\n",
       "      <td>Partly Cloudy</td>\n",
       "      <td>55</td>\n",
       "      <td>35</td>\n",
       "      <td>0.0</td>\n",
       "      <td>No</td>\n",
       "      <td>1</td>\n",
       "    </tr>\n",
       "    <tr>\n",
       "      <th>2</th>\n",
       "      <td>2019-05-12</td>\n",
       "      <td>Mostly Sunny</td>\n",
       "      <td>59</td>\n",
       "      <td>35</td>\n",
       "      <td>0.0</td>\n",
       "      <td>No</td>\n",
       "      <td>0</td>\n",
       "    </tr>\n",
       "    <tr>\n",
       "      <th>3</th>\n",
       "      <td>2019-05-13</td>\n",
       "      <td>Mostly Sunny</td>\n",
       "      <td>63</td>\n",
       "      <td>42</td>\n",
       "      <td>0.0</td>\n",
       "      <td>No</td>\n",
       "      <td>0</td>\n",
       "    </tr>\n",
       "    <tr>\n",
       "      <th>4</th>\n",
       "      <td>2019-05-14</td>\n",
       "      <td>Mostly Cloudy</td>\n",
       "      <td>64</td>\n",
       "      <td>43</td>\n",
       "      <td>0.0</td>\n",
       "      <td>No</td>\n",
       "      <td>2</td>\n",
       "    </tr>\n",
       "  </tbody>\n",
       "</table>\n",
       "</div>"
      ],
      "text/plain": [
       "        Date        Weather  High  Low  Precipitation (in) Wunderground?  \\\n",
       "0 2019-05-10         Cloudy    58   40                 0.0            No   \n",
       "1 2019-05-11  Partly Cloudy    55   35                 0.0            No   \n",
       "2 2019-05-12   Mostly Sunny    59   35                 0.0            No   \n",
       "3 2019-05-13   Mostly Sunny    63   42                 0.0            No   \n",
       "4 2019-05-14  Mostly Cloudy    64   43                 0.0            No   \n",
       "\n",
       "   weather_num  \n",
       "0            3  \n",
       "1            1  \n",
       "2            0  \n",
       "3            0  \n",
       "4            2  "
      ]
     },
     "execution_count": 6,
     "metadata": {},
     "output_type": "execute_result"
    }
   ],
   "source": [
    "df[\"weather_num\"] = df[\"Weather\"].apply(weather_number)\n",
    "df.head()"
   ]
  },
  {
   "cell_type": "markdown",
   "metadata": {},
   "source": [
    "# Creating 1-Step Transition Matrix P"
   ]
  },
  {
   "cell_type": "code",
   "execution_count": 7,
   "metadata": {},
   "outputs": [],
   "source": [
    "# General function to create a transition matrix P, assuming first-order condition is met\n",
    "# Input: a series, also known as a stochastic process {X(t)}\n",
    "# Outputs: count matrix (used to prove first-order condition is met), transition_matrix (P)\n",
    "def create_transition_matrix(series): \n",
    "    \n",
    "    # Initialize to make \n",
    "    unique_vals = len(np.unique(series)) \n",
    "    counts = np.zeros((unique_vals, unique_vals))\n",
    "    n = len(series)\n",
    "    \n",
    "    # increment count when transition occures\n",
    "    for i in range(n-1):\n",
    "        current = series[i]\n",
    "        future = series[i+1]\n",
    "        counts[current][future] += 1\n",
    "    \n",
    "    # Convert counts to probabilities\n",
    "    transition_matrix = counts/counts.sum(axis=1)[:,None]\n",
    "    return counts, transition_matrix"
   ]
  },
  {
   "cell_type": "code",
   "execution_count": 8,
   "metadata": {
    "scrolled": true
   },
   "outputs": [
    {
     "data": {
      "text/plain": [
       "array([[0.3204, 0.1553, 0.1748, 0.3301, 0.    , 0.    , 0.0097, 0.0097],\n",
       "       [0.1831, 0.1408, 0.2113, 0.3521, 0.0141, 0.0986, 0.    , 0.    ],\n",
       "       [0.1513, 0.1513, 0.2773, 0.3277, 0.    , 0.0504, 0.0252, 0.0168],\n",
       "       [0.0714, 0.0652, 0.1273, 0.5373, 0.0155, 0.1056, 0.    , 0.0776],\n",
       "       [0.25  , 0.    , 0.25  , 0.375 , 0.125 , 0.    , 0.    , 0.    ],\n",
       "       [0.1481, 0.0741, 0.0926, 0.4444, 0.0185, 0.1481, 0.    , 0.0741],\n",
       "       [0.5   , 0.    , 0.25  , 0.25  , 0.    , 0.    , 0.    , 0.    ],\n",
       "       [0.0816, 0.0408, 0.0816, 0.449 , 0.    , 0.    , 0.    , 0.3469]])"
      ]
     },
     "execution_count": 8,
     "metadata": {},
     "output_type": "execute_result"
    }
   ],
   "source": [
    "count_mat, mat = create_transition_matrix(df[\"weather_num\"])\n",
    "np.around(mat, decimals=4) \n",
    "# For the final presentation and report, I rounded to the nearest 4 decimal-places for formatting purposes."
   ]
  },
  {
   "cell_type": "markdown",
   "metadata": {},
   "source": [
    "# Showing why Markov Chains work"
   ]
  },
  {
   "cell_type": "markdown",
   "metadata": {},
   "source": [
    "## Independence Model does not Hold"
   ]
  },
  {
   "cell_type": "markdown",
   "metadata": {},
   "source": [
    "For the independence model, one would assume that $\\{X_0, X_1, ...\\}$ are all independent.\n",
    "The best estimates for the probability that the chain is in state J is the total number of occurrences where the matrix is in state j divided by the total number of events, or $\\hat{P}_i = \\frac{\\text{number i's}}{731}$"
   ]
  },
  {
   "cell_type": "code",
   "execution_count": 9,
   "metadata": {},
   "outputs": [],
   "source": [
    "weather_counts = df.groupby(\"weather_num\").count()[\"Date\"]\n",
    "weather_prop = weather_counts / 731 # calculates approximation of P_i"
   ]
  },
  {
   "cell_type": "markdown",
   "metadata": {},
   "source": [
    "One would use the formula $N \\times \\hat{P}_i \\times \\hat{P}_j$ to calculate the expected number of occurences there will be \"ij\" in the chain, assuming the independence model works."
   ]
  },
  {
   "cell_type": "code",
   "execution_count": 10,
   "metadata": {
    "scrolled": true
   },
   "outputs": [],
   "source": [
    "expected = np.zeros((8, 8))\n",
    "for i in range(8):\n",
    "    for j in range(8): \n",
    "        expected[i][j] = weather_prop[i]*weather_prop[j]*731 # N = 731 in our example"
   ]
  },
  {
   "cell_type": "markdown",
   "metadata": {},
   "source": [
    "Use a probability plot to assess the fit of the indepdence model. We see that the ordered values don't fit the model too well, with some bigger deviation in the tails of the normal probability plot"
   ]
  },
  {
   "cell_type": "code",
   "execution_count": 11,
   "metadata": {
    "scrolled": true
   },
   "outputs": [
    {
     "data": {
      "image/png": "[encoded data removed]",
      "text/plain": [
       "<Figure size 432x288 with 1 Axes>"
      ]
     },
     "metadata": {
      "needs_background": "light"
     },
     "output_type": "display_data"
    }
   ],
   "source": [
    "normalized = []\n",
    "for i in range(8):\n",
    "    for j in range(8): \n",
    "        if expected[i][j] == 0: continue # skip, since we don't want 0 in the denominator\n",
    "        normalized.append((count_mat[i][j] - expected[i][j]) / math.sqrt(expected[i][j])) # normalize\n",
    "scipy.stats.probplot(normalized, plot = plt) # normal probability plot\n",
    "plt.show()"
   ]
  },
  {
   "cell_type": "markdown",
   "metadata": {},
   "source": [
    "## 1st-Order Markov Chain"
   ]
  },
  {
   "cell_type": "code",
   "execution_count": 12,
   "metadata": {},
   "outputs": [],
   "source": [
    "def create_second_order(series): \n",
    "    counts = np.zeros((64, 8))\n",
    "    n = len(series)\n",
    "    for i in range(n-2):\n",
    "        current = series[i]\n",
    "        next_val = series[i+1]\n",
    "        future_val = series[i+2]\n",
    "        counts[8*current + next_val][future_val] += 1\n",
    "    return counts\n",
    "second_order = create_second_order(df[\"weather_num\"])"
   ]
  },
  {
   "cell_type": "code",
   "execution_count": 13,
   "metadata": {},
   "outputs": [],
   "source": [
    "sec_order_sum = np.sum(second_order, axis = 1)\n",
    "expected_sec_order = np.zeros((64, 8))\n",
    "\n",
    "for i in range(64):\n",
    "    for j in range(8):\n",
    "        expected_sec_order[i][j] = mat[i % 8][j] * sec_order_sum[i]"
   ]
  },
  {
   "cell_type": "code",
   "execution_count": 14,
   "metadata": {},
   "outputs": [],
   "source": [
    "# normalize the deviation of the expected from the actual\n",
    "normalized = []\n",
    "for i in range(64):\n",
    "    for j in range(8):\n",
    "        if expected_sec_order[i][j] == 0: continue  # skip, since we don't want 0 in the denominator\n",
    "        normalized.append((second_order[i][j] - expected_sec_order[i][j]) / math.sqrt(expected_sec_order[i][j]))"
   ]
  },
  {
   "cell_type": "code",
   "execution_count": 15,
   "metadata": {},
   "outputs": [
    {
     "data": {
      "image/png": "[encoded data removed]",
      "text/plain": [
       "<Figure size 432x288 with 1 Axes>"
      ]
     },
     "metadata": {
      "needs_background": "light"
     },
     "output_type": "display_data"
    }
   ],
   "source": [
    "scipy.stats.probplot(normalized, plot = plt)\n",
    "plt.show()"
   ]
  },
  {
   "cell_type": "markdown",
   "metadata": {},
   "source": [
    "Looking at the normal probability plot, we see that there is an improvement than when an independence model was assumed. We thus choose to use the first-order condition. "
   ]
  },
  {
   "cell_type": "markdown",
   "metadata": {},
   "source": [
    "# Creating Multi-Step Transition Matrix"
   ]
  },
  {
   "cell_type": "markdown",
   "metadata": {},
   "source": [
    "$P^{(n)} = P^n$, by Chapman-Kolmogorov Equations"
   ]
  },
  {
   "cell_type": "code",
   "execution_count": 16,
   "metadata": {},
   "outputs": [
    {
     "data": {
      "text/plain": [
       "array([[0.1868, 0.12  , 0.1825, 0.4019, 0.0073, 0.059 , 0.0075, 0.035 ],\n",
       "       [0.1597, 0.1105, 0.1778, 0.4176, 0.011 , 0.0763, 0.0071, 0.04  ],\n",
       "       [0.163 , 0.1125, 0.1894, 0.4064, 0.0082, 0.071 , 0.0085, 0.0411],\n",
       "       [0.1183, 0.0856, 0.15  , 0.4645, 0.0132, 0.0852, 0.0039, 0.0793],\n",
       "       [0.1759, 0.1011, 0.192 , 0.4128, 0.0214, 0.0522, 0.0087, 0.0357],\n",
       "       [0.1394, 0.0904, 0.1482, 0.4502, 0.013 , 0.0808, 0.0038, 0.0742],\n",
       "       [0.2159, 0.1318, 0.1885, 0.3813, 0.0039, 0.039 , 0.0112, 0.0285],\n",
       "       [0.1064, 0.0742, 0.131 , 0.4651, 0.0075, 0.0555, 0.0029, 0.1574]])"
      ]
     },
     "execution_count": 16,
     "metadata": {},
     "output_type": "execute_result"
    }
   ],
   "source": [
    "np.around(np.linalg.matrix_power(mat, 2), 4)"
   ]
  },
  {
   "cell_type": "code",
   "execution_count": 17,
   "metadata": {
    "scrolled": true
   },
   "outputs": [
    {
     "data": {
      "text/plain": [
       "array([[0.1415, 0.0974, 0.1632, 0.4393, 0.011 , 0.0754, 0.0055, 0.0667],\n",
       "       [0.1414, 0.0974, 0.1631, 0.4394, 0.011 , 0.0754, 0.0055, 0.0669],\n",
       "       [0.1414, 0.0974, 0.1631, 0.4394, 0.011 , 0.0754, 0.0055, 0.0668],\n",
       "       [0.1411, 0.0972, 0.1629, 0.4397, 0.011 , 0.0754, 0.0055, 0.0673],\n",
       "       [0.1415, 0.0974, 0.1632, 0.4393, 0.011 , 0.0754, 0.0055, 0.0668],\n",
       "       [0.1412, 0.0972, 0.1629, 0.4396, 0.011 , 0.0754, 0.0055, 0.0672],\n",
       "       [0.1416, 0.0975, 0.1632, 0.4392, 0.0109, 0.0754, 0.0055, 0.0666],\n",
       "       [0.1408, 0.097 , 0.1627, 0.4399, 0.011 , 0.0754, 0.0055, 0.0677]])"
      ]
     },
     "execution_count": 17,
     "metadata": {},
     "output_type": "execute_result"
    }
   ],
   "source": [
    "np.around(np.linalg.matrix_power(mat, 7), 4)"
   ]
  },
  {
   "cell_type": "markdown",
   "metadata": {},
   "source": [
    "# Limiting Distribution"
   ]
  },
  {
   "cell_type": "markdown",
   "metadata": {},
   "source": [
    "An approximation to $P^\\infty$ is $P^{1000}$. We can see that there are identical rows, so that is the limiting distribution"
   ]
  },
  {
   "cell_type": "code",
   "execution_count": 18,
   "metadata": {},
   "outputs": [],
   "source": [
    "P_thousand = np.linalg.matrix_power(mat, 1000)"
   ]
  },
  {
   "cell_type": "code",
   "execution_count": 19,
   "metadata": {},
   "outputs": [
    {
     "data": {
      "text/plain": [
       "array([0.14124, 0.09728, 0.16297, 0.43957, 0.01096, 0.07539, 0.00548,\n",
       "       0.0671 ])"
      ]
     },
     "execution_count": 19,
     "metadata": {},
     "output_type": "execute_result"
    }
   ],
   "source": [
    "pi = P_thousand[0]\n",
    "np.around(pi, 5)"
   ]
  }
 ],
 "metadata": {
  "kernelspec": {
   "display_name": "Python 3",
   "language": "python",
   "name": "python3"
  },
  "language_info": {
   "codemirror_mode": {
    "name": "ipython",
    "version": 3
   },
   "file_extension": ".py",
   "mimetype": "text/x-python",
   "name": "python",
   "nbconvert_exporter": "python",
   "pygments_lexer": "ipython3",
   "version": "3.7.6"
  }
 },
 "nbformat": 4,
 "nbformat_minor": 4
}
