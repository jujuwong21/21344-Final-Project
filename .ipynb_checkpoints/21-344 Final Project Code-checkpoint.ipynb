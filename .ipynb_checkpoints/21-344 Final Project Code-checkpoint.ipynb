{
 "cells": [
  {
   "cell_type": "markdown",
   "metadata": {},
   "source": [
    "# 21-344 Final Project Code\n",
    "# Juliette Wong (jnwong)"
   ]
  },
  {
   "cell_type": "code",
   "execution_count": 1,
   "metadata": {},
   "outputs": [],
   "source": [
    "import numpy as np\n",
    "import pandas as pd\n",
    "import math"
   ]
  },
  {
   "cell_type": "code",
   "execution_count": 2,
   "metadata": {
    "scrolled": false
   },
   "outputs": [
    {
     "data": {
      "text/html": [
       "<div>\n",
       "<style scoped>\n",
       "    .dataframe tbody tr th:only-of-type {\n",
       "        vertical-align: middle;\n",
       "    }\n",
       "\n",
       "    .dataframe tbody tr th {\n",
       "        vertical-align: top;\n",
       "    }\n",
       "\n",
       "    .dataframe thead th {\n",
       "        text-align: right;\n",
       "    }\n",
       "</style>\n",
       "<table border=\"1\" class=\"dataframe\">\n",
       "  <thead>\n",
       "    <tr style=\"text-align: right;\">\n",
       "      <th></th>\n",
       "      <th>Date</th>\n",
       "      <th>Weather</th>\n",
       "      <th>High</th>\n",
       "      <th>Low</th>\n",
       "      <th>Precipitation (in)</th>\n",
       "      <th>Wunderground?</th>\n",
       "    </tr>\n",
       "  </thead>\n",
       "  <tbody>\n",
       "    <tr>\n",
       "      <th>0</th>\n",
       "      <td>2019-05-10</td>\n",
       "      <td>Cloudy</td>\n",
       "      <td>58</td>\n",
       "      <td>40</td>\n",
       "      <td>0.0</td>\n",
       "      <td>No</td>\n",
       "    </tr>\n",
       "    <tr>\n",
       "      <th>1</th>\n",
       "      <td>2019-05-11</td>\n",
       "      <td>Partly Cloudy</td>\n",
       "      <td>55</td>\n",
       "      <td>35</td>\n",
       "      <td>0.0</td>\n",
       "      <td>No</td>\n",
       "    </tr>\n",
       "    <tr>\n",
       "      <th>2</th>\n",
       "      <td>2019-05-12</td>\n",
       "      <td>Mostly Sunny</td>\n",
       "      <td>59</td>\n",
       "      <td>35</td>\n",
       "      <td>0.0</td>\n",
       "      <td>No</td>\n",
       "    </tr>\n",
       "    <tr>\n",
       "      <th>3</th>\n",
       "      <td>2019-05-13</td>\n",
       "      <td>Mostly Sunny</td>\n",
       "      <td>63</td>\n",
       "      <td>42</td>\n",
       "      <td>0.0</td>\n",
       "      <td>No</td>\n",
       "    </tr>\n",
       "    <tr>\n",
       "      <th>4</th>\n",
       "      <td>2019-05-14</td>\n",
       "      <td>Mostly Cloudy</td>\n",
       "      <td>64</td>\n",
       "      <td>43</td>\n",
       "      <td>0.0</td>\n",
       "      <td>No</td>\n",
       "    </tr>\n",
       "  </tbody>\n",
       "</table>\n",
       "</div>"
      ],
      "text/plain": [
       "        Date        Weather  High  Low  Precipitation (in) Wunderground?\n",
       "0 2019-05-10         Cloudy    58   40                 0.0            No\n",
       "1 2019-05-11  Partly Cloudy    55   35                 0.0            No\n",
       "2 2019-05-12   Mostly Sunny    59   35                 0.0            No\n",
       "3 2019-05-13   Mostly Sunny    63   42                 0.0            No\n",
       "4 2019-05-14  Mostly Cloudy    64   43                 0.0            No"
      ]
     },
     "execution_count": 2,
     "metadata": {},
     "output_type": "execute_result"
    }
   ],
   "source": [
    "df = pd.read_excel(\"Weather_PGH.xlsx\")\n",
    "df.head()"
   ]
  },
  {
   "cell_type": "code",
   "execution_count": 3,
   "metadata": {},
   "outputs": [
    {
     "data": {
      "text/html": [
       "<div>\n",
       "<style scoped>\n",
       "    .dataframe tbody tr th:only-of-type {\n",
       "        vertical-align: middle;\n",
       "    }\n",
       "\n",
       "    .dataframe tbody tr th {\n",
       "        vertical-align: top;\n",
       "    }\n",
       "\n",
       "    .dataframe thead th {\n",
       "        text-align: right;\n",
       "    }\n",
       "</style>\n",
       "<table border=\"1\" class=\"dataframe\">\n",
       "  <thead>\n",
       "    <tr style=\"text-align: right;\">\n",
       "      <th></th>\n",
       "      <th>Date</th>\n",
       "      <th>High</th>\n",
       "      <th>Low</th>\n",
       "      <th>Precipitation (in)</th>\n",
       "      <th>Wunderground?</th>\n",
       "    </tr>\n",
       "    <tr>\n",
       "      <th>Weather</th>\n",
       "      <th></th>\n",
       "      <th></th>\n",
       "      <th></th>\n",
       "      <th></th>\n",
       "      <th></th>\n",
       "    </tr>\n",
       "  </thead>\n",
       "  <tbody>\n",
       "    <tr>\n",
       "      <th>Cloudy</th>\n",
       "      <td>322</td>\n",
       "      <td>322</td>\n",
       "      <td>322</td>\n",
       "      <td>322</td>\n",
       "      <td>322</td>\n",
       "    </tr>\n",
       "    <tr>\n",
       "      <th>Foggy</th>\n",
       "      <td>8</td>\n",
       "      <td>8</td>\n",
       "      <td>8</td>\n",
       "      <td>8</td>\n",
       "      <td>8</td>\n",
       "    </tr>\n",
       "    <tr>\n",
       "      <th>Mostly Cloudy</th>\n",
       "      <td>119</td>\n",
       "      <td>119</td>\n",
       "      <td>119</td>\n",
       "      <td>119</td>\n",
       "      <td>119</td>\n",
       "    </tr>\n",
       "    <tr>\n",
       "      <th>Mostly Sunny</th>\n",
       "      <td>103</td>\n",
       "      <td>103</td>\n",
       "      <td>103</td>\n",
       "      <td>103</td>\n",
       "      <td>103</td>\n",
       "    </tr>\n",
       "    <tr>\n",
       "      <th>Partly Cloudy</th>\n",
       "      <td>71</td>\n",
       "      <td>71</td>\n",
       "      <td>71</td>\n",
       "      <td>71</td>\n",
       "      <td>71</td>\n",
       "    </tr>\n",
       "    <tr>\n",
       "      <th>Scattered Showers</th>\n",
       "      <td>55</td>\n",
       "      <td>55</td>\n",
       "      <td>55</td>\n",
       "      <td>55</td>\n",
       "      <td>55</td>\n",
       "    </tr>\n",
       "    <tr>\n",
       "      <th>Snow</th>\n",
       "      <td>49</td>\n",
       "      <td>49</td>\n",
       "      <td>49</td>\n",
       "      <td>49</td>\n",
       "      <td>49</td>\n",
       "    </tr>\n",
       "    <tr>\n",
       "      <th>Thunderstorm</th>\n",
       "      <td>4</td>\n",
       "      <td>4</td>\n",
       "      <td>4</td>\n",
       "      <td>4</td>\n",
       "      <td>4</td>\n",
       "    </tr>\n",
       "  </tbody>\n",
       "</table>\n",
       "</div>"
      ],
      "text/plain": [
       "                   Date  High  Low  Precipitation (in)  Wunderground?\n",
       "Weather                                                              \n",
       "Cloudy              322   322  322                 322            322\n",
       "Foggy                 8     8    8                   8              8\n",
       "Mostly Cloudy       119   119  119                 119            119\n",
       "Mostly Sunny        103   103  103                 103            103\n",
       "Partly Cloudy        71    71   71                  71             71\n",
       "Scattered Showers    55    55   55                  55             55\n",
       "Snow                 49    49   49                  49             49\n",
       "Thunderstorm          4     4    4                   4              4"
      ]
     },
     "execution_count": 3,
     "metadata": {},
     "output_type": "execute_result"
    }
   ],
   "source": [
    "df.groupby(\"Weather\").count()"
   ]
  },
  {
   "cell_type": "markdown",
   "metadata": {},
   "source": [
    "## Converting Weather to an Integer Value"
   ]
  },
  {
   "cell_type": "code",
   "execution_count": 4,
   "metadata": {},
   "outputs": [],
   "source": [
    "def weather_number(weather_name): \n",
    "    num = -1\n",
    "    if weather_name == \"Mostly Sunny\": \n",
    "        num = 0\n",
    "    elif weather_name == \"Partly Cloudy\":\n",
    "        num = 1\n",
    "    elif weather_name == \"Mostly Cloudy\":\n",
    "        num = 2\n",
    "    elif weather_name == \"Cloudy\": \n",
    "        num = 3\n",
    "    elif weather_name == \"Foggy\":\n",
    "        num = 4\n",
    "    elif weather_name == \"Scattered Showers\":\n",
    "        num = 5\n",
    "    elif weather_name == \"Thunderstorm\": \n",
    "        num = 6\n",
    "    elif weather_name == \"Snow\":\n",
    "        num = 7\n",
    "    return num"
   ]
  },
  {
   "cell_type": "code",
   "execution_count": 5,
   "metadata": {},
   "outputs": [
    {
     "data": {
      "text/html": [
       "<div>\n",
       "<style scoped>\n",
       "    .dataframe tbody tr th:only-of-type {\n",
       "        vertical-align: middle;\n",
       "    }\n",
       "\n",
       "    .dataframe tbody tr th {\n",
       "        vertical-align: top;\n",
       "    }\n",
       "\n",
       "    .dataframe thead th {\n",
       "        text-align: right;\n",
       "    }\n",
       "</style>\n",
       "<table border=\"1\" class=\"dataframe\">\n",
       "  <thead>\n",
       "    <tr style=\"text-align: right;\">\n",
       "      <th></th>\n",
       "      <th>Date</th>\n",
       "      <th>Weather</th>\n",
       "      <th>High</th>\n",
       "      <th>Low</th>\n",
       "      <th>Precipitation (in)</th>\n",
       "      <th>Wunderground?</th>\n",
       "      <th>weather_num</th>\n",
       "    </tr>\n",
       "  </thead>\n",
       "  <tbody>\n",
       "    <tr>\n",
       "      <th>0</th>\n",
       "      <td>2019-05-10</td>\n",
       "      <td>Cloudy</td>\n",
       "      <td>58</td>\n",
       "      <td>40</td>\n",
       "      <td>0.0</td>\n",
       "      <td>No</td>\n",
       "      <td>3</td>\n",
       "    </tr>\n",
       "    <tr>\n",
       "      <th>1</th>\n",
       "      <td>2019-05-11</td>\n",
       "      <td>Partly Cloudy</td>\n",
       "      <td>55</td>\n",
       "      <td>35</td>\n",
       "      <td>0.0</td>\n",
       "      <td>No</td>\n",
       "      <td>1</td>\n",
       "    </tr>\n",
       "    <tr>\n",
       "      <th>2</th>\n",
       "      <td>2019-05-12</td>\n",
       "      <td>Mostly Sunny</td>\n",
       "      <td>59</td>\n",
       "      <td>35</td>\n",
       "      <td>0.0</td>\n",
       "      <td>No</td>\n",
       "      <td>0</td>\n",
       "    </tr>\n",
       "    <tr>\n",
       "      <th>3</th>\n",
       "      <td>2019-05-13</td>\n",
       "      <td>Mostly Sunny</td>\n",
       "      <td>63</td>\n",
       "      <td>42</td>\n",
       "      <td>0.0</td>\n",
       "      <td>No</td>\n",
       "      <td>0</td>\n",
       "    </tr>\n",
       "    <tr>\n",
       "      <th>4</th>\n",
       "      <td>2019-05-14</td>\n",
       "      <td>Mostly Cloudy</td>\n",
       "      <td>64</td>\n",
       "      <td>43</td>\n",
       "      <td>0.0</td>\n",
       "      <td>No</td>\n",
       "      <td>2</td>\n",
       "    </tr>\n",
       "  </tbody>\n",
       "</table>\n",
       "</div>"
      ],
      "text/plain": [
       "        Date        Weather  High  Low  Precipitation (in) Wunderground?  \\\n",
       "0 2019-05-10         Cloudy    58   40                 0.0            No   \n",
       "1 2019-05-11  Partly Cloudy    55   35                 0.0            No   \n",
       "2 2019-05-12   Mostly Sunny    59   35                 0.0            No   \n",
       "3 2019-05-13   Mostly Sunny    63   42                 0.0            No   \n",
       "4 2019-05-14  Mostly Cloudy    64   43                 0.0            No   \n",
       "\n",
       "   weather_num  \n",
       "0            3  \n",
       "1            1  \n",
       "2            0  \n",
       "3            0  \n",
       "4            2  "
      ]
     },
     "execution_count": 5,
     "metadata": {},
     "output_type": "execute_result"
    }
   ],
   "source": [
    "df[\"weather_num\"] = df[\"Weather\"].apply(weather_number)\n",
    "df.head()"
   ]
  },
  {
   "cell_type": "markdown",
   "metadata": {},
   "source": [
    "## Creating 1-Step Transition Matrix"
   ]
  },
  {
   "cell_type": "code",
   "execution_count": 42,
   "metadata": {},
   "outputs": [],
   "source": [
    "def create_transition_matrix(series): \n",
    "    counts = np.zeros((8, 8))\n",
    "    n = len(series)\n",
    "    for i in range(n-1):\n",
    "        current = series[i]\n",
    "        future = series[i+1]\n",
    "        counts[current][future] += 1\n",
    "    transition_matrix = counts/counts.sum(axis=1)[:,None]\n",
    "    return counts, transition_matrix"
   ]
  },
  {
   "cell_type": "code",
   "execution_count": 43,
   "metadata": {
    "scrolled": true
   },
   "outputs": [
    {
     "data": {
      "text/plain": [
       "array([[0.32038835, 0.15533981, 0.17475728, 0.33009709, 0.        ,\n",
       "        0.        , 0.00970874, 0.00970874],\n",
       "       [0.18309859, 0.14084507, 0.21126761, 0.35211268, 0.01408451,\n",
       "        0.09859155, 0.        , 0.        ],\n",
       "       [0.1512605 , 0.1512605 , 0.27731092, 0.32773109, 0.        ,\n",
       "        0.05042017, 0.02521008, 0.01680672],\n",
       "       [0.07142857, 0.06521739, 0.12732919, 0.53726708, 0.01552795,\n",
       "        0.10559006, 0.        , 0.07763975],\n",
       "       [0.25      , 0.        , 0.25      , 0.375     , 0.125     ,\n",
       "        0.        , 0.        , 0.        ],\n",
       "       [0.14814815, 0.07407407, 0.09259259, 0.44444444, 0.01851852,\n",
       "        0.14814815, 0.        , 0.07407407],\n",
       "       [0.5       , 0.        , 0.25      , 0.25      , 0.        ,\n",
       "        0.        , 0.        , 0.        ],\n",
       "       [0.08163265, 0.04081633, 0.08163265, 0.44897959, 0.        ,\n",
       "        0.        , 0.        , 0.34693878]])"
      ]
     },
     "execution_count": 43,
     "metadata": {},
     "output_type": "execute_result"
    }
   ],
   "source": [
    "count_mat, mat = create_transition_matrix(df[\"weather_num\"])\n",
    "mat\n",
    "# Rounding does lead to some error rip\n",
    "# np.around(mat, decimals=2)\n",
    "# np.around(mat, decimals=3).sum(axis=1)[:, None] "
   ]
  },
  {
   "cell_type": "markdown",
   "metadata": {},
   "source": [
    "## Creating Multi-Step Transition Matrix"
   ]
  },
  {
   "cell_type": "code",
   "execution_count": 30,
   "metadata": {},
   "outputs": [
    {
     "data": {
      "text/plain": [
       "array([[0.18675035, 0.12000613, 0.1825213 , 0.40186628, 0.00731362,\n",
       "        0.05898146, 0.00751621, 0.03504466],\n",
       "       [0.15968582, 0.11050323, 0.17782482, 0.41755132, 0.01103765,\n",
       "        0.07632404, 0.00710373, 0.03996939],\n",
       "       [0.16295992, 0.11254185, 0.18936444, 0.40641129, 0.00815313,\n",
       "        0.07096987, 0.00845958, 0.04113993],\n",
       "       [0.11832509, 0.08557074, 0.14997733, 0.46453845, 0.01315758,\n",
       "        0.08522288, 0.00390346, 0.07930448],\n",
       "       [0.17594793, 0.1011066 , 0.1920155 , 0.4128072 , 0.02144798,\n",
       "        0.05220132, 0.00872971, 0.03574377],\n",
       "       [0.1394038 , 0.09043475, 0.14820102, 0.45016235, 0.01300291,\n",
       "        0.0808484 , 0.0037726 , 0.07417417],\n",
       "       [0.21586644, 0.13178938, 0.18853867, 0.38129809, 0.00388199,\n",
       "        0.03900256, 0.01115689, 0.02846599],\n",
       "       [0.10636686, 0.07421942, 0.13101644, 0.46506259, 0.00754661,\n",
       "        0.05554786, 0.00285052, 0.15738971]])"
      ]
     },
     "execution_count": 30,
     "metadata": {},
     "output_type": "execute_result"
    }
   ],
   "source": [
    "np.linalg.matrix_power(mat, 2)"
   ]
  },
  {
   "cell_type": "code",
   "execution_count": 31,
   "metadata": {},
   "outputs": [
    {
     "data": {
      "text/plain": [
       "array([[0.14150437, 0.09744159, 0.16315736, 0.43932129, 0.01095422,\n",
       "        0.07538326, 0.00549897, 0.06673893],\n",
       "       [0.14140717, 0.09738322, 0.16308778, 0.43941445, 0.01095797,\n",
       "        0.0753885 , 0.00549182, 0.06686909],\n",
       "       [0.14143985, 0.09740299, 0.16311101, 0.43938244, 0.01095631,\n",
       "        0.07538565, 0.00549425, 0.0668275 ],\n",
       "       [0.14110575, 0.09720353, 0.1628713 , 0.43969857, 0.01096684,\n",
       "        0.07539747, 0.00546985, 0.06728668],\n",
       "       [0.14149493, 0.09743596, 0.16315144, 0.43932948, 0.01095444,\n",
       "        0.07538271, 0.00549841, 0.06675264],\n",
       "       [0.14117617, 0.0972457 , 0.16292172, 0.43963141, 0.01096428,\n",
       "        0.0753938 , 0.00547501, 0.06719191],\n",
       "       [0.14162931, 0.0975166 , 0.16324681, 0.4392015 , 0.01094937,\n",
       "        0.07537628, 0.00550815, 0.06657198],\n",
       "       [0.14083562, 0.09704444, 0.16267594, 0.43994451, 0.01096978,\n",
       "        0.07539089, 0.00545052, 0.0676883 ]])"
      ]
     },
     "execution_count": 31,
     "metadata": {},
     "output_type": "execute_result"
    }
   ],
   "source": [
    "np.linalg.matrix_power(mat, 7)"
   ]
  },
  {
   "cell_type": "markdown",
   "metadata": {},
   "source": [
    "## Limiting Distribution"
   ]
  },
  {
   "cell_type": "code",
   "execution_count": 32,
   "metadata": {},
   "outputs": [],
   "source": [
    "P_thousand = np.linalg.matrix_power(mat, 1000)"
   ]
  },
  {
   "cell_type": "code",
   "execution_count": 33,
   "metadata": {},
   "outputs": [
    {
     "data": {
      "text/plain": [
       "array([0.14124014, 0.09728391, 0.16296765, 0.43957079, 0.01096225,\n",
       "       0.07539167, 0.00547969, 0.06710389])"
      ]
     },
     "execution_count": 33,
     "metadata": {},
     "output_type": "execute_result"
    }
   ],
   "source": [
    "pi = P_thousand[0]\n",
    "pi"
   ]
  },
  {
   "cell_type": "markdown",
   "metadata": {},
   "source": [
    "## Showing why Markov Chains work"
   ]
  },
  {
   "cell_type": "markdown",
   "metadata": {},
   "source": [
    "### Independence Model does not Hold"
   ]
  },
  {
   "cell_type": "code",
   "execution_count": 44,
   "metadata": {},
   "outputs": [],
   "source": [
    "weather_counts = df.groupby(\"weather_num\").count()[\"Date\"]\n",
    "weather_prop = weather_counts / weather_counts.sum()"
   ]
  },
  {
   "cell_type": "code",
   "execution_count": 25,
   "metadata": {
    "scrolled": true
   },
   "outputs": [
    {
     "data": {
      "text/plain": [
       "array([[ 15.,  10.,  17.,  45.,   1.,   8.,   1.,   7.],\n",
       "       [ 10.,   7.,  12.,  31.,   1.,   5.,   0.,   5.],\n",
       "       [ 17.,  12.,  19.,  52.,   1.,   9.,   1.,   8.],\n",
       "       [ 45.,  31.,  52., 142.,   4.,  24.,   2.,  22.],\n",
       "       [  1.,   1.,   1.,   4.,   0.,   1.,   0.,   1.],\n",
       "       [  8.,   5.,   9.,  24.,   1.,   4.,   0.,   4.],\n",
       "       [  1.,   0.,   1.,   2.,   0.,   0.,   0.,   0.],\n",
       "       [  7.,   5.,   8.,  22.,   1.,   4.,   0.,   3.]])"
      ]
     },
     "execution_count": 25,
     "metadata": {},
     "output_type": "execute_result"
    }
   ],
   "source": [
    "expected = np.zeros((8, 8))\n",
    "for i in range(8):\n",
    "    for j in range(8): \n",
    "        expected[i][j] = weather_prop[i]*weather_prop[j]*731\n",
    "np.around(expected)"
   ]
  },
  {
   "cell_type": "code",
   "execution_count": 45,
   "metadata": {},
   "outputs": [
    {
     "data": {
      "text/plain": [
       "array([[ 33.,  16.,  18.,  34.,   0.,   0.,   1.,   1.],\n",
       "       [ 13.,  10.,  15.,  25.,   1.,   7.,   0.,   0.],\n",
       "       [ 18.,  18.,  33.,  39.,   0.,   6.,   3.,   2.],\n",
       "       [ 23.,  21.,  41., 173.,   5.,  34.,   0.,  25.],\n",
       "       [  2.,   0.,   2.,   3.,   1.,   0.,   0.,   0.],\n",
       "       [  8.,   4.,   5.,  24.,   1.,   8.,   0.,   4.],\n",
       "       [  2.,   0.,   1.,   1.,   0.,   0.,   0.,   0.],\n",
       "       [  4.,   2.,   4.,  22.,   0.,   0.,   0.,  17.]])"
      ]
     },
     "execution_count": 45,
     "metadata": {},
     "output_type": "execute_result"
    }
   ],
   "source": [
    "count_mat"
   ]
  },
  {
   "cell_type": "markdown",
   "metadata": {},
   "source": [
    "### 1st-Order Markov Chain"
   ]
  },
  {
   "cell_type": "code",
   "execution_count": 54,
   "metadata": {},
   "outputs": [
    {
     "data": {
      "text/plain": [
       "array([[ 11.,   5.,   4.,  13.,   0.,   0.,   0.,   0.],\n",
       "       [  2.,   3.,   1.,   7.,   1.,   2.,   0.,   0.],\n",
       "       [  2.,   0.,   5.,   9.,   0.,   1.,   1.,   0.],\n",
       "       [  2.,   3.,   8.,  15.,   1.,   4.,   0.,   1.],\n",
       "       [  0.,   0.,   0.,   0.,   0.,   0.,   0.,   0.],\n",
       "       [  0.,   0.,   0.,   0.,   0.,   0.,   0.,   0.],\n",
       "       [  1.,   0.,   0.,   0.,   0.,   0.,   0.,   0.],\n",
       "       [  1.,   0.,   0.,   0.,   0.,   0.,   0.,   0.],\n",
       "       [  6.,   0.,   5.,   2.,   0.,   0.,   0.,   0.],\n",
       "       [  3.,   1.,   2.,   2.,   0.,   2.,   0.,   0.],\n",
       "       [  2.,   3.,   4.,   5.,   0.,   0.,   0.,   1.],\n",
       "       [  4.,   2.,   7.,   8.,   0.,   4.,   0.,   0.],\n",
       "       [  0.,   0.,   0.,   0.,   1.,   0.,   0.,   0.],\n",
       "       [  1.,   0.,   1.,   3.,   0.,   1.,   0.,   1.],\n",
       "       [  0.,   0.,   0.,   0.,   0.,   0.,   0.,   0.],\n",
       "       [  0.,   0.,   0.,   0.,   0.,   0.,   0.,   0.],\n",
       "       [  4.,   4.,   5.,   5.,   0.,   0.,   0.,   0.],\n",
       "       [  4.,   4.,   3.,   6.,   0.,   1.,   0.,   0.],\n",
       "       [  3.,   9.,  12.,   7.,   0.,   0.,   2.,   0.],\n",
       "       [  3.,   2.,   8.,  19.,   1.,   4.,   0.,   2.],\n",
       "       [  0.,   0.,   0.,   0.,   0.,   0.,   0.,   0.],\n",
       "       [  0.,   0.,   0.,   3.,   0.,   1.,   0.,   1.],\n",
       "       [  1.,   0.,   1.,   1.,   0.,   0.,   0.,   0.],\n",
       "       [  0.,   0.,   0.,   2.,   0.,   0.,   0.,   0.],\n",
       "       [  6.,   4.,   4.,   8.,   0.,   0.,   0.,   1.],\n",
       "       [  4.,   1.,   9.,   6.,   0.,   1.,   0.,   0.],\n",
       "       [ 10.,   5.,  10.,  12.,   0.,   4.,   0.,   0.],\n",
       "       [ 10.,  11.,  15., 101.,   3.,  19.,   0.,  14.],\n",
       "       [  1.,   0.,   2.,   2.,   0.,   0.,   0.,   0.],\n",
       "       [  5.,   3.,   4.,  17.,   1.,   3.,   0.,   1.],\n",
       "       [  0.,   0.,   0.,   0.,   0.,   0.,   0.,   0.],\n",
       "       [  2.,   1.,   2.,  10.,   0.,   0.,   0.,  10.],\n",
       "       [  0.,   1.,   0.,   1.,   0.,   0.,   0.,   0.],\n",
       "       [  0.,   0.,   0.,   0.,   0.,   0.,   0.,   0.],\n",
       "       [  0.,   0.,   2.,   0.,   0.,   0.,   0.,   0.],\n",
       "       [  0.,   0.,   0.,   2.,   0.,   0.,   0.,   1.],\n",
       "       [  0.,   0.,   0.,   1.,   0.,   0.,   0.,   0.],\n",
       "       [  0.,   0.,   0.,   0.,   0.,   0.,   0.,   0.],\n",
       "       [  0.,   0.,   0.,   0.,   0.,   0.,   0.,   0.],\n",
       "       [  0.,   0.,   0.,   0.,   0.,   0.,   0.,   0.],\n",
       "       [  4.,   2.,   0.,   2.,   0.,   0.,   0.,   0.],\n",
       "       [  0.,   1.,   0.,   2.,   0.,   1.,   0.,   0.],\n",
       "       [  1.,   0.,   0.,   3.,   0.,   1.,   0.,   0.],\n",
       "       [  3.,   2.,   2.,  14.,   0.,   1.,   0.,   2.],\n",
       "       [  1.,   0.,   0.,   0.,   0.,   0.,   0.,   0.],\n",
       "       [  2.,   1.,   0.,   1.,   0.,   3.,   0.,   1.],\n",
       "       [  0.,   0.,   0.,   0.,   0.,   0.,   0.,   0.],\n",
       "       [  0.,   0.,   1.,   1.,   0.,   0.,   0.,   2.],\n",
       "       [  0.,   0.,   0.,   1.,   0.,   0.,   1.,   0.],\n",
       "       [  0.,   0.,   0.,   0.,   0.,   0.,   0.,   0.],\n",
       "       [  0.,   1.,   0.,   0.,   0.,   0.,   0.,   0.],\n",
       "       [  0.,   0.,   1.,   0.,   0.,   0.,   0.,   0.],\n",
       "       [  0.,   0.,   0.,   0.,   0.,   0.,   0.,   0.],\n",
       "       [  0.,   0.,   0.,   0.,   0.,   0.,   0.,   0.],\n",
       "       [  0.,   0.,   0.,   0.,   0.,   0.,   0.,   0.],\n",
       "       [  0.,   0.,   0.,   0.,   0.,   0.,   0.,   0.],\n",
       "       [  2.,   0.,   0.,   2.,   0.,   0.,   0.,   0.],\n",
       "       [  0.,   0.,   0.,   2.,   0.,   0.,   0.,   0.],\n",
       "       [  0.,   0.,   0.,   3.,   0.,   0.,   0.,   1.],\n",
       "       [  1.,   0.,   0.,  14.,   0.,   2.,   0.,   5.],\n",
       "       [  0.,   0.,   0.,   0.,   0.,   0.,   0.,   0.],\n",
       "       [  0.,   0.,   0.,   0.,   0.,   0.,   0.,   0.],\n",
       "       [  0.,   0.,   0.,   0.,   0.,   0.,   0.,   0.],\n",
       "       [  1.,   1.,   1.,   9.,   0.,   0.,   0.,   5.]])"
      ]
     },
     "execution_count": 54,
     "metadata": {},
     "output_type": "execute_result"
    }
   ],
   "source": [
    "def create_counts(series): \n",
    "    counts = np.zeros((64, 8))\n",
    "    n = len(series)\n",
    "    for i in range(n-2):\n",
    "        current = series[i]\n",
    "        next_val = series[i+1]\n",
    "        future_val = series[i+2]\n",
    "        counts[8*current + next_val][future_val] += 1\n",
    "    return counts\n",
    "actual = create_counts(df[\"weather_num\"])\n",
    "actual"
   ]
  },
  {
   "cell_type": "code",
   "execution_count": 52,
   "metadata": {},
   "outputs": [
    {
     "data": {
      "text/plain": [
       "array([[11.,  5.,  6., 11.,  0.,  0.,  0.,  0.],\n",
       "       [ 3.,  2.,  3.,  6.,  0.,  2.,  0.,  0.],\n",
       "       [ 3.,  3.,  5.,  6.,  0.,  1.,  0.,  0.],\n",
       "       [ 2.,  2.,  4., 18.,  1.,  4.,  0.,  3.],\n",
       "       [ 0.,  0.,  0.,  0.,  0.,  0.,  0.,  0.],\n",
       "       [ 0.,  0.,  0.,  0.,  0.,  0.,  0.,  0.],\n",
       "       [ 0.,  0.,  0.,  0.,  0.,  0.,  0.,  0.],\n",
       "       [ 0.,  0.,  0.,  0.,  0.,  0.,  0.,  0.],\n",
       "       [ 4.,  2.,  2.,  4.,  0.,  0.,  0.,  0.],\n",
       "       [ 2.,  1.,  2.,  4.,  0.,  1.,  0.,  0.],\n",
       "       [ 2.,  2.,  4.,  5.,  0.,  1.,  0.,  0.],\n",
       "       [ 2.,  2.,  3., 13.,  0.,  3.,  0.,  2.],\n",
       "       [ 0.,  0.,  0.,  0.,  0.,  0.,  0.,  0.],\n",
       "       [ 1.,  1.,  1.,  3.,  0.,  1.,  0.,  1.],\n",
       "       [ 0.,  0.,  0.,  0.,  0.,  0.,  0.,  0.],\n",
       "       [ 0.,  0.,  0.,  0.,  0.,  0.,  0.,  0.],\n",
       "       [ 6.,  3.,  3.,  6.,  0.,  0.,  0.,  0.],\n",
       "       [ 3.,  3.,  4.,  6.,  0.,  2.,  0.,  0.],\n",
       "       [ 5.,  5.,  9., 11.,  0.,  2.,  1.,  1.],\n",
       "       [ 3.,  3.,  5., 21.,  1.,  4.,  0.,  3.],\n",
       "       [ 0.,  0.,  0.,  0.,  0.,  0.,  0.,  0.],\n",
       "       [ 1.,  0.,  0.,  2.,  0.,  1.,  0.,  0.],\n",
       "       [ 2.,  0.,  1.,  1.,  0.,  0.,  0.,  0.],\n",
       "       [ 0.,  0.,  0.,  1.,  0.,  0.,  0.,  1.],\n",
       "       [ 7.,  4.,  4.,  8.,  0.,  0.,  0.,  0.],\n",
       "       [ 4.,  3.,  4.,  7.,  0.,  2.,  0.,  0.],\n",
       "       [ 6.,  6., 11., 13.,  0.,  2.,  1.,  1.],\n",
       "       [12., 11., 22., 93.,  3., 18.,  0., 13.],\n",
       "       [ 1.,  0.,  1.,  2.,  1.,  0.,  0.,  0.],\n",
       "       [ 5.,  3.,  3., 15.,  1.,  5.,  0.,  3.],\n",
       "       [ 0.,  0.,  0.,  0.,  0.,  0.,  0.,  0.],\n",
       "       [ 2.,  1.,  2., 11.,  0.,  0.,  0.,  9.],\n",
       "       [ 1.,  0.,  0.,  1.,  0.,  0.,  0.,  0.],\n",
       "       [ 0.,  0.,  0.,  0.,  0.,  0.,  0.,  0.],\n",
       "       [ 0.,  0.,  1.,  1.,  0.,  0.,  0.,  0.],\n",
       "       [ 0.,  0.,  0.,  2.,  0.,  0.,  0.,  0.],\n",
       "       [ 0.,  0.,  0.,  0.,  0.,  0.,  0.,  0.],\n",
       "       [ 0.,  0.,  0.,  0.,  0.,  0.,  0.,  0.],\n",
       "       [ 0.,  0.,  0.,  0.,  0.,  0.,  0.,  0.],\n",
       "       [ 0.,  0.,  0.,  0.,  0.,  0.,  0.,  0.],\n",
       "       [ 3.,  1.,  1.,  3.,  0.,  0.,  0.,  0.],\n",
       "       [ 1.,  1.,  1.,  1.,  0.,  0.,  0.,  0.],\n",
       "       [ 1.,  1.,  1.,  2.,  0.,  0.,  0.,  0.],\n",
       "       [ 2.,  2.,  3., 13.,  0.,  3.,  0.,  2.],\n",
       "       [ 0.,  0.,  0.,  0.,  0.,  0.,  0.,  0.],\n",
       "       [ 1.,  1.,  1.,  4.,  0.,  1.,  0.,  1.],\n",
       "       [ 0.,  0.,  0.,  0.,  0.,  0.,  0.,  0.],\n",
       "       [ 0.,  0.,  0.,  2.,  0.,  0.,  0.,  1.],\n",
       "       [ 1.,  0.,  0.,  1.,  0.,  0.,  0.,  0.],\n",
       "       [ 0.,  0.,  0.,  0.,  0.,  0.,  0.,  0.],\n",
       "       [ 0.,  0.,  0.,  0.,  0.,  0.,  0.,  0.],\n",
       "       [ 0.,  0.,  0.,  1.,  0.,  0.,  0.,  0.],\n",
       "       [ 0.,  0.,  0.,  0.,  0.,  0.,  0.,  0.],\n",
       "       [ 0.,  0.,  0.,  0.,  0.,  0.,  0.,  0.],\n",
       "       [ 0.,  0.,  0.,  0.,  0.,  0.,  0.,  0.],\n",
       "       [ 0.,  0.,  0.,  0.,  0.,  0.,  0.,  0.],\n",
       "       [ 1.,  1.,  1.,  1.,  0.,  0.,  0.,  0.],\n",
       "       [ 0.,  0.,  0.,  1.,  0.,  0.,  0.,  0.],\n",
       "       [ 1.,  1.,  1.,  1.,  0.,  0.,  0.,  0.],\n",
       "       [ 2.,  1.,  3., 12.,  0.,  2.,  0.,  2.],\n",
       "       [ 0.,  0.,  0.,  0.,  0.,  0.,  0.,  0.],\n",
       "       [ 0.,  0.,  0.,  0.,  0.,  0.,  0.,  0.],\n",
       "       [ 0.,  0.,  0.,  0.,  0.,  0.,  0.,  0.],\n",
       "       [ 1.,  1.,  1.,  8.,  0.,  0.,  0.,  6.]])"
      ]
     },
     "execution_count": 52,
     "metadata": {},
     "output_type": "execute_result"
    }
   ],
   "source": [
    "actual_row_sum = np.sum(actual, axis = 1)\n",
    "expected = np.zeros((64, 8))\n",
    "\n",
    "for i in range(64):\n",
    "    for j in range(8):\n",
    "        expected[i][j] = mat[i % 8][j] * actual_row_sum[i]\n",
    "np.around(expected)"
   ]
  },
  {
   "cell_type": "code",
   "execution_count": null,
   "metadata": {},
   "outputs": [],
   "source": []
  }
 ],
 "metadata": {
  "kernelspec": {
   "display_name": "Python 3",
   "language": "python",
   "name": "python3"
  },
  "language_info": {
   "codemirror_mode": {
    "name": "ipython",
    "version": 3
   },
   "file_extension": ".py",
   "mimetype": "text/x-python",
   "name": "python",
   "nbconvert_exporter": "python",
   "pygments_lexer": "ipython3",
   "version": "3.7.6"
  }
 },
 "nbformat": 4,
 "nbformat_minor": 4
}
