{
 "cells": [
  {
   "cell_type": "markdown",
   "metadata": {},
   "source": [
    "# 21-344 Final Project Code\n",
    "# Juliette Wong (jnwong)"
   ]
  },
  {
   "cell_type": "code",
   "execution_count": 1,
   "metadata": {},
   "outputs": [],
   "source": [
    "import numpy as np\n",
    "import pandas as pd\n",
    "import math"
   ]
  },
  {
   "cell_type": "code",
   "execution_count": 2,
   "metadata": {
    "scrolled": true
   },
   "outputs": [
    {
     "data": {
      "text/html": [
       "<div>\n",
       "<style scoped>\n",
       "    .dataframe tbody tr th:only-of-type {\n",
       "        vertical-align: middle;\n",
       "    }\n",
       "\n",
       "    .dataframe tbody tr th {\n",
       "        vertical-align: top;\n",
       "    }\n",
       "\n",
       "    .dataframe thead th {\n",
       "        text-align: right;\n",
       "    }\n",
       "</style>\n",
       "<table border=\"1\" class=\"dataframe\">\n",
       "  <thead>\n",
       "    <tr style=\"text-align: right;\">\n",
       "      <th></th>\n",
       "      <th>Date</th>\n",
       "      <th>Weather</th>\n",
       "      <th>High</th>\n",
       "      <th>Low</th>\n",
       "      <th>Precipitation (in)</th>\n",
       "      <th>Wunderground?</th>\n",
       "    </tr>\n",
       "  </thead>\n",
       "  <tbody>\n",
       "    <tr>\n",
       "      <th>726</th>\n",
       "      <td>2021-05-05</td>\n",
       "      <td>Cloudy</td>\n",
       "      <td>58</td>\n",
       "      <td>43</td>\n",
       "      <td>0.47</td>\n",
       "      <td>Yes</td>\n",
       "    </tr>\n",
       "    <tr>\n",
       "      <th>727</th>\n",
       "      <td>2021-05-06</td>\n",
       "      <td>Cloudy</td>\n",
       "      <td>57</td>\n",
       "      <td>37</td>\n",
       "      <td>0.05</td>\n",
       "      <td>Yes</td>\n",
       "    </tr>\n",
       "    <tr>\n",
       "      <th>728</th>\n",
       "      <td>2021-05-07</td>\n",
       "      <td>Scattered Showers</td>\n",
       "      <td>53</td>\n",
       "      <td>42</td>\n",
       "      <td>0.00</td>\n",
       "      <td>Yes</td>\n",
       "    </tr>\n",
       "    <tr>\n",
       "      <th>729</th>\n",
       "      <td>2021-05-08</td>\n",
       "      <td>Mostly Cloudy</td>\n",
       "      <td>50</td>\n",
       "      <td>42</td>\n",
       "      <td>0.18</td>\n",
       "      <td>Yes</td>\n",
       "    </tr>\n",
       "    <tr>\n",
       "      <th>730</th>\n",
       "      <td>2021-05-09</td>\n",
       "      <td>Scattered Showers</td>\n",
       "      <td>43</td>\n",
       "      <td>39</td>\n",
       "      <td>0.01</td>\n",
       "      <td>Yes</td>\n",
       "    </tr>\n",
       "  </tbody>\n",
       "</table>\n",
       "</div>"
      ],
      "text/plain": [
       "          Date            Weather  High  Low  Precipitation (in) Wunderground?\n",
       "726 2021-05-05             Cloudy    58   43                0.47           Yes\n",
       "727 2021-05-06             Cloudy    57   37                0.05           Yes\n",
       "728 2021-05-07  Scattered Showers    53   42                0.00           Yes\n",
       "729 2021-05-08      Mostly Cloudy    50   42                0.18           Yes\n",
       "730 2021-05-09  Scattered Showers    43   39                0.01           Yes"
      ]
     },
     "execution_count": 2,
     "metadata": {},
     "output_type": "execute_result"
    }
   ],
   "source": [
    "df = pd.read_excel(\"Weather_PGH.xlsx\")\n",
    "df.tail()"
   ]
  },
  {
   "cell_type": "code",
   "execution_count": 3,
   "metadata": {},
   "outputs": [
    {
     "data": {
      "text/html": [
       "<div>\n",
       "<style scoped>\n",
       "    .dataframe tbody tr th:only-of-type {\n",
       "        vertical-align: middle;\n",
       "    }\n",
       "\n",
       "    .dataframe tbody tr th {\n",
       "        vertical-align: top;\n",
       "    }\n",
       "\n",
       "    .dataframe thead th {\n",
       "        text-align: right;\n",
       "    }\n",
       "</style>\n",
       "<table border=\"1\" class=\"dataframe\">\n",
       "  <thead>\n",
       "    <tr style=\"text-align: right;\">\n",
       "      <th></th>\n",
       "      <th>Date</th>\n",
       "      <th>Weather</th>\n",
       "      <th>High</th>\n",
       "      <th>Low</th>\n",
       "      <th>Precipitation (in)</th>\n",
       "    </tr>\n",
       "    <tr>\n",
       "      <th>Wunderground?</th>\n",
       "      <th></th>\n",
       "      <th></th>\n",
       "      <th></th>\n",
       "      <th></th>\n",
       "      <th></th>\n",
       "    </tr>\n",
       "  </thead>\n",
       "  <tbody>\n",
       "    <tr>\n",
       "      <th>No</th>\n",
       "      <td>39</td>\n",
       "      <td>39</td>\n",
       "      <td>39</td>\n",
       "      <td>39</td>\n",
       "      <td>39</td>\n",
       "    </tr>\n",
       "    <tr>\n",
       "      <th>Yes</th>\n",
       "      <td>692</td>\n",
       "      <td>692</td>\n",
       "      <td>692</td>\n",
       "      <td>692</td>\n",
       "      <td>692</td>\n",
       "    </tr>\n",
       "  </tbody>\n",
       "</table>\n",
       "</div>"
      ],
      "text/plain": [
       "               Date  Weather  High  Low  Precipitation (in)\n",
       "Wunderground?                                              \n",
       "No               39       39    39   39                  39\n",
       "Yes             692      692   692  692                 692"
      ]
     },
     "execution_count": 3,
     "metadata": {},
     "output_type": "execute_result"
    }
   ],
   "source": [
    "df.groupby(\"Wunderground?\").count()"
   ]
  },
  {
   "cell_type": "code",
   "execution_count": 4,
   "metadata": {},
   "outputs": [
    {
     "data": {
      "text/html": [
       "<div>\n",
       "<style scoped>\n",
       "    .dataframe tbody tr th:only-of-type {\n",
       "        vertical-align: middle;\n",
       "    }\n",
       "\n",
       "    .dataframe tbody tr th {\n",
       "        vertical-align: top;\n",
       "    }\n",
       "\n",
       "    .dataframe thead th {\n",
       "        text-align: right;\n",
       "    }\n",
       "</style>\n",
       "<table border=\"1\" class=\"dataframe\">\n",
       "  <thead>\n",
       "    <tr style=\"text-align: right;\">\n",
       "      <th></th>\n",
       "      <th>Date</th>\n",
       "      <th>High</th>\n",
       "      <th>Low</th>\n",
       "      <th>Precipitation (in)</th>\n",
       "      <th>Wunderground?</th>\n",
       "    </tr>\n",
       "    <tr>\n",
       "      <th>Weather</th>\n",
       "      <th></th>\n",
       "      <th></th>\n",
       "      <th></th>\n",
       "      <th></th>\n",
       "      <th></th>\n",
       "    </tr>\n",
       "  </thead>\n",
       "  <tbody>\n",
       "    <tr>\n",
       "      <th>Cloudy</th>\n",
       "      <td>322</td>\n",
       "      <td>322</td>\n",
       "      <td>322</td>\n",
       "      <td>322</td>\n",
       "      <td>322</td>\n",
       "    </tr>\n",
       "    <tr>\n",
       "      <th>Foggy</th>\n",
       "      <td>8</td>\n",
       "      <td>8</td>\n",
       "      <td>8</td>\n",
       "      <td>8</td>\n",
       "      <td>8</td>\n",
       "    </tr>\n",
       "    <tr>\n",
       "      <th>Mostly Cloudy</th>\n",
       "      <td>119</td>\n",
       "      <td>119</td>\n",
       "      <td>119</td>\n",
       "      <td>119</td>\n",
       "      <td>119</td>\n",
       "    </tr>\n",
       "    <tr>\n",
       "      <th>Mostly Sunny</th>\n",
       "      <td>103</td>\n",
       "      <td>103</td>\n",
       "      <td>103</td>\n",
       "      <td>103</td>\n",
       "      <td>103</td>\n",
       "    </tr>\n",
       "    <tr>\n",
       "      <th>Partly Cloudy</th>\n",
       "      <td>71</td>\n",
       "      <td>71</td>\n",
       "      <td>71</td>\n",
       "      <td>71</td>\n",
       "      <td>71</td>\n",
       "    </tr>\n",
       "    <tr>\n",
       "      <th>Scattered Showers</th>\n",
       "      <td>55</td>\n",
       "      <td>55</td>\n",
       "      <td>55</td>\n",
       "      <td>55</td>\n",
       "      <td>55</td>\n",
       "    </tr>\n",
       "    <tr>\n",
       "      <th>Snow</th>\n",
       "      <td>49</td>\n",
       "      <td>49</td>\n",
       "      <td>49</td>\n",
       "      <td>49</td>\n",
       "      <td>49</td>\n",
       "    </tr>\n",
       "    <tr>\n",
       "      <th>Thunderstorm</th>\n",
       "      <td>4</td>\n",
       "      <td>4</td>\n",
       "      <td>4</td>\n",
       "      <td>4</td>\n",
       "      <td>4</td>\n",
       "    </tr>\n",
       "  </tbody>\n",
       "</table>\n",
       "</div>"
      ],
      "text/plain": [
       "                   Date  High  Low  Precipitation (in)  Wunderground?\n",
       "Weather                                                              \n",
       "Cloudy              322   322  322                 322            322\n",
       "Foggy                 8     8    8                   8              8\n",
       "Mostly Cloudy       119   119  119                 119            119\n",
       "Mostly Sunny        103   103  103                 103            103\n",
       "Partly Cloudy        71    71   71                  71             71\n",
       "Scattered Showers    55    55   55                  55             55\n",
       "Snow                 49    49   49                  49             49\n",
       "Thunderstorm          4     4    4                   4              4"
      ]
     },
     "execution_count": 4,
     "metadata": {},
     "output_type": "execute_result"
    }
   ],
   "source": [
    "df.groupby(\"Weather\").count()"
   ]
  },
  {
   "cell_type": "markdown",
   "metadata": {},
   "source": [
    "## Converting Weather to an Integer Value"
   ]
  },
  {
   "cell_type": "code",
   "execution_count": 5,
   "metadata": {},
   "outputs": [],
   "source": [
    "def weather_number(weather_name): \n",
    "    num = -1\n",
    "    if weather_name == \"Mostly Sunny\": \n",
    "        num = 0\n",
    "    elif weather_name == \"Partly Cloudy\":\n",
    "        num = 1\n",
    "    elif weather_name == \"Mostly Cloudy\":\n",
    "        num = 2\n",
    "    elif weather_name == \"Cloudy\": \n",
    "        num = 3\n",
    "    elif weather_name == \"Foggy\":\n",
    "        num = 4\n",
    "    elif weather_name == \"Scattered Showers\":\n",
    "        num = 5\n",
    "    elif weather_name == \"Thunderstorm\": \n",
    "        num = 6\n",
    "    elif weather_name == \"Snow\":\n",
    "        num = 7\n",
    "    return num"
   ]
  },
  {
   "cell_type": "code",
   "execution_count": 6,
   "metadata": {},
   "outputs": [
    {
     "data": {
      "text/html": [
       "<div>\n",
       "<style scoped>\n",
       "    .dataframe tbody tr th:only-of-type {\n",
       "        vertical-align: middle;\n",
       "    }\n",
       "\n",
       "    .dataframe tbody tr th {\n",
       "        vertical-align: top;\n",
       "    }\n",
       "\n",
       "    .dataframe thead th {\n",
       "        text-align: right;\n",
       "    }\n",
       "</style>\n",
       "<table border=\"1\" class=\"dataframe\">\n",
       "  <thead>\n",
       "    <tr style=\"text-align: right;\">\n",
       "      <th></th>\n",
       "      <th>Date</th>\n",
       "      <th>Weather</th>\n",
       "      <th>High</th>\n",
       "      <th>Low</th>\n",
       "      <th>Precipitation (in)</th>\n",
       "      <th>Wunderground?</th>\n",
       "      <th>weather_num</th>\n",
       "    </tr>\n",
       "  </thead>\n",
       "  <tbody>\n",
       "    <tr>\n",
       "      <th>0</th>\n",
       "      <td>2019-05-10</td>\n",
       "      <td>Cloudy</td>\n",
       "      <td>58</td>\n",
       "      <td>40</td>\n",
       "      <td>0.0</td>\n",
       "      <td>No</td>\n",
       "      <td>3</td>\n",
       "    </tr>\n",
       "    <tr>\n",
       "      <th>1</th>\n",
       "      <td>2019-05-11</td>\n",
       "      <td>Partly Cloudy</td>\n",
       "      <td>55</td>\n",
       "      <td>35</td>\n",
       "      <td>0.0</td>\n",
       "      <td>No</td>\n",
       "      <td>1</td>\n",
       "    </tr>\n",
       "    <tr>\n",
       "      <th>2</th>\n",
       "      <td>2019-05-12</td>\n",
       "      <td>Mostly Sunny</td>\n",
       "      <td>59</td>\n",
       "      <td>35</td>\n",
       "      <td>0.0</td>\n",
       "      <td>No</td>\n",
       "      <td>0</td>\n",
       "    </tr>\n",
       "    <tr>\n",
       "      <th>3</th>\n",
       "      <td>2019-05-13</td>\n",
       "      <td>Mostly Sunny</td>\n",
       "      <td>63</td>\n",
       "      <td>42</td>\n",
       "      <td>0.0</td>\n",
       "      <td>No</td>\n",
       "      <td>0</td>\n",
       "    </tr>\n",
       "    <tr>\n",
       "      <th>4</th>\n",
       "      <td>2019-05-14</td>\n",
       "      <td>Mostly Cloudy</td>\n",
       "      <td>64</td>\n",
       "      <td>43</td>\n",
       "      <td>0.0</td>\n",
       "      <td>No</td>\n",
       "      <td>2</td>\n",
       "    </tr>\n",
       "  </tbody>\n",
       "</table>\n",
       "</div>"
      ],
      "text/plain": [
       "        Date        Weather  High  Low  Precipitation (in) Wunderground?  \\\n",
       "0 2019-05-10         Cloudy    58   40                 0.0            No   \n",
       "1 2019-05-11  Partly Cloudy    55   35                 0.0            No   \n",
       "2 2019-05-12   Mostly Sunny    59   35                 0.0            No   \n",
       "3 2019-05-13   Mostly Sunny    63   42                 0.0            No   \n",
       "4 2019-05-14  Mostly Cloudy    64   43                 0.0            No   \n",
       "\n",
       "   weather_num  \n",
       "0            3  \n",
       "1            1  \n",
       "2            0  \n",
       "3            0  \n",
       "4            2  "
      ]
     },
     "execution_count": 6,
     "metadata": {},
     "output_type": "execute_result"
    }
   ],
   "source": [
    "df[\"weather_num\"] = df[\"Weather\"].apply(weather_number)\n",
    "df.head()"
   ]
  },
  {
   "cell_type": "markdown",
   "metadata": {},
   "source": [
    "## Creating 1-Step Transition Matrix"
   ]
  },
  {
   "cell_type": "code",
   "execution_count": 7,
   "metadata": {},
   "outputs": [],
   "source": [
    "def create_transition_matrix(series): \n",
    "    counts = np.zeros((8, 8))\n",
    "    n = len(series)\n",
    "    for i in range(n-1):\n",
    "        current = series[i]\n",
    "        future = series[i+1]\n",
    "        counts[current][future] += 1\n",
    "    transition_matrix = counts/counts.sum(axis=1)[:,None]\n",
    "    return counts, transition_matrix"
   ]
  },
  {
   "cell_type": "code",
   "execution_count": 23,
   "metadata": {
    "scrolled": true
   },
   "outputs": [
    {
     "data": {
      "text/plain": [
       "array([[0.3204, 0.1553, 0.1748, 0.3301, 0.    , 0.    , 0.0097, 0.0097],\n",
       "       [0.1831, 0.1408, 0.2113, 0.3521, 0.0141, 0.0986, 0.    , 0.    ],\n",
       "       [0.1513, 0.1513, 0.2773, 0.3277, 0.    , 0.0504, 0.0252, 0.0168],\n",
       "       [0.0714, 0.0652, 0.1273, 0.5373, 0.0155, 0.1056, 0.    , 0.0776],\n",
       "       [0.25  , 0.    , 0.25  , 0.375 , 0.125 , 0.    , 0.    , 0.    ],\n",
       "       [0.1481, 0.0741, 0.0926, 0.4444, 0.0185, 0.1481, 0.    , 0.0741],\n",
       "       [0.5   , 0.    , 0.25  , 0.25  , 0.    , 0.    , 0.    , 0.    ],\n",
       "       [0.0816, 0.0408, 0.0816, 0.449 , 0.    , 0.    , 0.    , 0.3469]])"
      ]
     },
     "execution_count": 23,
     "metadata": {},
     "output_type": "execute_result"
    }
   ],
   "source": [
    "count_mat, mat = create_transition_matrix(df[\"weather_num\"])\n",
    "mat\n",
    "# Rounding does lead to some error rip\n",
    "np.around(mat, decimals=4)\n",
    "# np.around(mat, decimals=4).sum(axis=1)[:, None] "
   ]
  },
  {
   "cell_type": "markdown",
   "metadata": {},
   "source": [
    "## Creating Multi-Step Transition Matrix"
   ]
  },
  {
   "cell_type": "code",
   "execution_count": 26,
   "metadata": {},
   "outputs": [
    {
     "data": {
      "text/plain": [
       "array([[0.1868, 0.12  , 0.1825, 0.4019, 0.0073, 0.059 , 0.0075, 0.035 ],\n",
       "       [0.1597, 0.1105, 0.1778, 0.4176, 0.011 , 0.0763, 0.0071, 0.04  ],\n",
       "       [0.163 , 0.1125, 0.1894, 0.4064, 0.0082, 0.071 , 0.0085, 0.0411],\n",
       "       [0.1183, 0.0856, 0.15  , 0.4645, 0.0132, 0.0852, 0.0039, 0.0793],\n",
       "       [0.1759, 0.1011, 0.192 , 0.4128, 0.0214, 0.0522, 0.0087, 0.0357],\n",
       "       [0.1394, 0.0904, 0.1482, 0.4502, 0.013 , 0.0808, 0.0038, 0.0742],\n",
       "       [0.2159, 0.1318, 0.1885, 0.3813, 0.0039, 0.039 , 0.0112, 0.0285],\n",
       "       [0.1064, 0.0742, 0.131 , 0.4651, 0.0075, 0.0555, 0.0029, 0.1574]])"
      ]
     },
     "execution_count": 26,
     "metadata": {},
     "output_type": "execute_result"
    }
   ],
   "source": [
    "np.around(np.linalg.matrix_power(mat, 2), 4)"
   ]
  },
  {
   "cell_type": "code",
   "execution_count": 29,
   "metadata": {
    "scrolled": true
   },
   "outputs": [
    {
     "data": {
      "text/plain": [
       "array([[0.1415, 0.0974, 0.1632, 0.4393, 0.011 , 0.0754, 0.0055, 0.0667],\n",
       "       [0.1414, 0.0974, 0.1631, 0.4394, 0.011 , 0.0754, 0.0055, 0.0669],\n",
       "       [0.1414, 0.0974, 0.1631, 0.4394, 0.011 , 0.0754, 0.0055, 0.0668],\n",
       "       [0.1411, 0.0972, 0.1629, 0.4397, 0.011 , 0.0754, 0.0055, 0.0673],\n",
       "       [0.1415, 0.0974, 0.1632, 0.4393, 0.011 , 0.0754, 0.0055, 0.0668],\n",
       "       [0.1412, 0.0972, 0.1629, 0.4396, 0.011 , 0.0754, 0.0055, 0.0672],\n",
       "       [0.1416, 0.0975, 0.1632, 0.4392, 0.0109, 0.0754, 0.0055, 0.0666],\n",
       "       [0.1408, 0.097 , 0.1627, 0.4399, 0.011 , 0.0754, 0.0055, 0.0677]])"
      ]
     },
     "execution_count": 29,
     "metadata": {},
     "output_type": "execute_result"
    }
   ],
   "source": [
    "np.around(np.linalg.matrix_power(mat, 7), 4)"
   ]
  },
  {
   "cell_type": "code",
   "execution_count": 30,
   "metadata": {},
   "outputs": [
    {
     "data": {
      "text/plain": [
       "array([[1.    ],\n",
       "       [1.0001],\n",
       "       [1.    ],\n",
       "       [1.0001],\n",
       "       [1.0001],\n",
       "       [1.    ],\n",
       "       [0.9999],\n",
       "       [1.    ]])"
      ]
     },
     "execution_count": 30,
     "metadata": {},
     "output_type": "execute_result"
    }
   ],
   "source": [
    "np.around(np.linalg.matrix_power(mat, 7), 4).sum(axis=1)[:, None] "
   ]
  },
  {
   "cell_type": "markdown",
   "metadata": {},
   "source": [
    "## Limiting Distribution"
   ]
  },
  {
   "cell_type": "code",
   "execution_count": 11,
   "metadata": {},
   "outputs": [],
   "source": [
    "P_thousand = np.linalg.matrix_power(mat, 1000)"
   ]
  },
  {
   "cell_type": "code",
   "execution_count": 39,
   "metadata": {},
   "outputs": [
    {
     "data": {
      "text/plain": [
       "array([0.14124014, 0.09728391, 0.16296765, 0.43957079, 0.01096225,\n",
       "       0.07539167, 0.00547969, 0.06710389])"
      ]
     },
     "execution_count": 39,
     "metadata": {},
     "output_type": "execute_result"
    }
   ],
   "source": [
    "pi = P_thousand[0]\n",
    "pi"
   ]
  },
  {
   "cell_type": "code",
   "execution_count": 42,
   "metadata": {},
   "outputs": [
    {
     "data": {
      "text/plain": [
       "array([0.1412, 0.0973, 0.163 , 0.4396, 0.011 , 0.0754, 0.0055, 0.0671])"
      ]
     },
     "execution_count": 42,
     "metadata": {},
     "output_type": "execute_result"
    }
   ],
   "source": [
    "np.around(pi, 4)"
   ]
  },
  {
   "cell_type": "markdown",
   "metadata": {},
   "source": [
    "## Showing why Markov Chains work"
   ]
  },
  {
   "cell_type": "markdown",
   "metadata": {},
   "source": [
    "### Independence Model does not Hold"
   ]
  },
  {
   "cell_type": "code",
   "execution_count": 13,
   "metadata": {},
   "outputs": [],
   "source": [
    "weather_counts = df.groupby(\"weather_num\").count()[\"Date\"]\n",
    "weather_prop = weather_counts / weather_counts.sum()"
   ]
  },
  {
   "cell_type": "code",
   "execution_count": 14,
   "metadata": {
    "scrolled": true
   },
   "outputs": [
    {
     "data": {
      "text/plain": [
       "array([[ 15.,  10.,  17.,  45.,   1.,   8.,   1.,   7.],\n",
       "       [ 10.,   7.,  12.,  31.,   1.,   5.,   0.,   5.],\n",
       "       [ 17.,  12.,  19.,  52.,   1.,   9.,   1.,   8.],\n",
       "       [ 45.,  31.,  52., 142.,   4.,  24.,   2.,  22.],\n",
       "       [  1.,   1.,   1.,   4.,   0.,   1.,   0.,   1.],\n",
       "       [  8.,   5.,   9.,  24.,   1.,   4.,   0.,   4.],\n",
       "       [  1.,   0.,   1.,   2.,   0.,   0.,   0.,   0.],\n",
       "       [  7.,   5.,   8.,  22.,   1.,   4.,   0.,   3.]])"
      ]
     },
     "execution_count": 14,
     "metadata": {},
     "output_type": "execute_result"
    }
   ],
   "source": [
    "expected = np.zeros((8, 8))\n",
    "for i in range(8):\n",
    "    for j in range(8): \n",
    "        expected[i][j] = weather_prop[i]*weather_prop[j]*731\n",
    "np.around(expected)"
   ]
  },
  {
   "cell_type": "code",
   "execution_count": 15,
   "metadata": {},
   "outputs": [
    {
     "data": {
      "text/plain": [
       "array([[ 33.,  16.,  18.,  34.,   0.,   0.,   1.,   1.],\n",
       "       [ 13.,  10.,  15.,  25.,   1.,   7.,   0.,   0.],\n",
       "       [ 18.,  18.,  33.,  39.,   0.,   6.,   3.,   2.],\n",
       "       [ 23.,  21.,  41., 173.,   5.,  34.,   0.,  25.],\n",
       "       [  2.,   0.,   2.,   3.,   1.,   0.,   0.,   0.],\n",
       "       [  8.,   4.,   5.,  24.,   1.,   8.,   0.,   4.],\n",
       "       [  2.,   0.,   1.,   1.,   0.,   0.,   0.,   0.],\n",
       "       [  4.,   2.,   4.,  22.,   0.,   0.,   0.,  17.]])"
      ]
     },
     "execution_count": 15,
     "metadata": {},
     "output_type": "execute_result"
    }
   ],
   "source": [
    "count_mat"
   ]
  },
  {
   "cell_type": "markdown",
   "metadata": {},
   "source": [
    "### 1st-Order Markov Chain"
   ]
  },
  {
   "cell_type": "code",
   "execution_count": 16,
   "metadata": {},
   "outputs": [
    {
     "data": {
      "text/plain": [
       "array([[ 11.,   5.,   4.,  13.,   0.,   0.,   0.,   0.],\n",
       "       [  2.,   3.,   1.,   7.,   1.,   2.,   0.,   0.],\n",
       "       [  2.,   0.,   5.,   9.,   0.,   1.,   1.,   0.],\n",
       "       [  2.,   3.,   8.,  15.,   1.,   4.,   0.,   1.],\n",
       "       [  0.,   0.,   0.,   0.,   0.,   0.,   0.,   0.],\n",
       "       [  0.,   0.,   0.,   0.,   0.,   0.,   0.,   0.],\n",
       "       [  1.,   0.,   0.,   0.,   0.,   0.,   0.,   0.],\n",
       "       [  1.,   0.,   0.,   0.,   0.,   0.,   0.,   0.],\n",
       "       [  6.,   0.,   5.,   2.,   0.,   0.,   0.,   0.],\n",
       "       [  3.,   1.,   2.,   2.,   0.,   2.,   0.,   0.],\n",
       "       [  2.,   3.,   4.,   5.,   0.,   0.,   0.,   1.],\n",
       "       [  4.,   2.,   7.,   8.,   0.,   4.,   0.,   0.],\n",
       "       [  0.,   0.,   0.,   0.,   1.,   0.,   0.,   0.],\n",
       "       [  1.,   0.,   1.,   3.,   0.,   1.,   0.,   1.],\n",
       "       [  0.,   0.,   0.,   0.,   0.,   0.,   0.,   0.],\n",
       "       [  0.,   0.,   0.,   0.,   0.,   0.,   0.,   0.],\n",
       "       [  4.,   4.,   5.,   5.,   0.,   0.,   0.,   0.],\n",
       "       [  4.,   4.,   3.,   6.,   0.,   1.,   0.,   0.],\n",
       "       [  3.,   9.,  12.,   7.,   0.,   0.,   2.,   0.],\n",
       "       [  3.,   2.,   8.,  19.,   1.,   4.,   0.,   2.],\n",
       "       [  0.,   0.,   0.,   0.,   0.,   0.,   0.,   0.],\n",
       "       [  0.,   0.,   0.,   3.,   0.,   1.,   0.,   1.],\n",
       "       [  1.,   0.,   1.,   1.,   0.,   0.,   0.,   0.],\n",
       "       [  0.,   0.,   0.,   2.,   0.,   0.,   0.,   0.],\n",
       "       [  6.,   4.,   4.,   8.,   0.,   0.,   0.,   1.],\n",
       "       [  4.,   1.,   9.,   6.,   0.,   1.,   0.,   0.],\n",
       "       [ 10.,   5.,  10.,  12.,   0.,   4.,   0.,   0.],\n",
       "       [ 10.,  11.,  15., 101.,   3.,  19.,   0.,  14.],\n",
       "       [  1.,   0.,   2.,   2.,   0.,   0.,   0.,   0.],\n",
       "       [  5.,   3.,   4.,  17.,   1.,   3.,   0.,   1.],\n",
       "       [  0.,   0.,   0.,   0.,   0.,   0.,   0.,   0.],\n",
       "       [  2.,   1.,   2.,  10.,   0.,   0.,   0.,  10.],\n",
       "       [  0.,   1.,   0.,   1.,   0.,   0.,   0.,   0.],\n",
       "       [  0.,   0.,   0.,   0.,   0.,   0.,   0.,   0.],\n",
       "       [  0.,   0.,   2.,   0.,   0.,   0.,   0.,   0.],\n",
       "       [  0.,   0.,   0.,   2.,   0.,   0.,   0.,   1.],\n",
       "       [  0.,   0.,   0.,   1.,   0.,   0.,   0.,   0.],\n",
       "       [  0.,   0.,   0.,   0.,   0.,   0.,   0.,   0.],\n",
       "       [  0.,   0.,   0.,   0.,   0.,   0.,   0.,   0.],\n",
       "       [  0.,   0.,   0.,   0.,   0.,   0.,   0.,   0.],\n",
       "       [  4.,   2.,   0.,   2.,   0.,   0.,   0.,   0.],\n",
       "       [  0.,   1.,   0.,   2.,   0.,   1.,   0.,   0.],\n",
       "       [  1.,   0.,   0.,   3.,   0.,   1.,   0.,   0.],\n",
       "       [  3.,   2.,   2.,  14.,   0.,   1.,   0.,   2.],\n",
       "       [  1.,   0.,   0.,   0.,   0.,   0.,   0.,   0.],\n",
       "       [  2.,   1.,   0.,   1.,   0.,   3.,   0.,   1.],\n",
       "       [  0.,   0.,   0.,   0.,   0.,   0.,   0.,   0.],\n",
       "       [  0.,   0.,   1.,   1.,   0.,   0.,   0.,   2.],\n",
       "       [  0.,   0.,   0.,   1.,   0.,   0.,   1.,   0.],\n",
       "       [  0.,   0.,   0.,   0.,   0.,   0.,   0.,   0.],\n",
       "       [  0.,   1.,   0.,   0.,   0.,   0.,   0.,   0.],\n",
       "       [  0.,   0.,   1.,   0.,   0.,   0.,   0.,   0.],\n",
       "       [  0.,   0.,   0.,   0.,   0.,   0.,   0.,   0.],\n",
       "       [  0.,   0.,   0.,   0.,   0.,   0.,   0.,   0.],\n",
       "       [  0.,   0.,   0.,   0.,   0.,   0.,   0.,   0.],\n",
       "       [  0.,   0.,   0.,   0.,   0.,   0.,   0.,   0.],\n",
       "       [  2.,   0.,   0.,   2.,   0.,   0.,   0.,   0.],\n",
       "       [  0.,   0.,   0.,   2.,   0.,   0.,   0.,   0.],\n",
       "       [  0.,   0.,   0.,   3.,   0.,   0.,   0.,   1.],\n",
       "       [  1.,   0.,   0.,  14.,   0.,   2.,   0.,   5.],\n",
       "       [  0.,   0.,   0.,   0.,   0.,   0.,   0.,   0.],\n",
       "       [  0.,   0.,   0.,   0.,   0.,   0.,   0.,   0.],\n",
       "       [  0.,   0.,   0.,   0.,   0.,   0.,   0.,   0.],\n",
       "       [  1.,   1.,   1.,   9.,   0.,   0.,   0.,   5.]])"
      ]
     },
     "execution_count": 16,
     "metadata": {},
     "output_type": "execute_result"
    }
   ],
   "source": [
    "def create_counts(series): \n",
    "    counts = np.zeros((64, 8))\n",
    "    n = len(series)\n",
    "    for i in range(n-2):\n",
    "        current = series[i]\n",
    "        next_val = series[i+1]\n",
    "        future_val = series[i+2]\n",
    "        counts[8*current + next_val][future_val] += 1\n",
    "    return counts\n",
    "actual = create_counts(df[\"weather_num\"])\n",
    "actual"
   ]
  },
  {
   "cell_type": "code",
   "execution_count": 17,
   "metadata": {},
   "outputs": [
    {
     "data": {
      "text/plain": [
       "array([[11.,  5.,  6., 11.,  0.,  0.,  0.,  0.],\n",
       "       [ 3.,  2.,  3.,  6.,  0.,  2.,  0.,  0.],\n",
       "       [ 3.,  3.,  5.,  6.,  0.,  1.,  0.,  0.],\n",
       "       [ 2.,  2.,  4., 18.,  1.,  4.,  0.,  3.],\n",
       "       [ 0.,  0.,  0.,  0.,  0.,  0.,  0.,  0.],\n",
       "       [ 0.,  0.,  0.,  0.,  0.,  0.,  0.,  0.],\n",
       "       [ 0.,  0.,  0.,  0.,  0.,  0.,  0.,  0.],\n",
       "       [ 0.,  0.,  0.,  0.,  0.,  0.,  0.,  0.],\n",
       "       [ 4.,  2.,  2.,  4.,  0.,  0.,  0.,  0.],\n",
       "       [ 2.,  1.,  2.,  4.,  0.,  1.,  0.,  0.],\n",
       "       [ 2.,  2.,  4.,  5.,  0.,  1.,  0.,  0.],\n",
       "       [ 2.,  2.,  3., 13.,  0.,  3.,  0.,  2.],\n",
       "       [ 0.,  0.,  0.,  0.,  0.,  0.,  0.,  0.],\n",
       "       [ 1.,  1.,  1.,  3.,  0.,  1.,  0.,  1.],\n",
       "       [ 0.,  0.,  0.,  0.,  0.,  0.,  0.,  0.],\n",
       "       [ 0.,  0.,  0.,  0.,  0.,  0.,  0.,  0.],\n",
       "       [ 6.,  3.,  3.,  6.,  0.,  0.,  0.,  0.],\n",
       "       [ 3.,  3.,  4.,  6.,  0.,  2.,  0.,  0.],\n",
       "       [ 5.,  5.,  9., 11.,  0.,  2.,  1.,  1.],\n",
       "       [ 3.,  3.,  5., 21.,  1.,  4.,  0.,  3.],\n",
       "       [ 0.,  0.,  0.,  0.,  0.,  0.,  0.,  0.],\n",
       "       [ 1.,  0.,  0.,  2.,  0.,  1.,  0.,  0.],\n",
       "       [ 2.,  0.,  1.,  1.,  0.,  0.,  0.,  0.],\n",
       "       [ 0.,  0.,  0.,  1.,  0.,  0.,  0.,  1.],\n",
       "       [ 7.,  4.,  4.,  8.,  0.,  0.,  0.,  0.],\n",
       "       [ 4.,  3.,  4.,  7.,  0.,  2.,  0.,  0.],\n",
       "       [ 6.,  6., 11., 13.,  0.,  2.,  1.,  1.],\n",
       "       [12., 11., 22., 93.,  3., 18.,  0., 13.],\n",
       "       [ 1.,  0.,  1.,  2.,  1.,  0.,  0.,  0.],\n",
       "       [ 5.,  3.,  3., 15.,  1.,  5.,  0.,  3.],\n",
       "       [ 0.,  0.,  0.,  0.,  0.,  0.,  0.,  0.],\n",
       "       [ 2.,  1.,  2., 11.,  0.,  0.,  0.,  9.],\n",
       "       [ 1.,  0.,  0.,  1.,  0.,  0.,  0.,  0.],\n",
       "       [ 0.,  0.,  0.,  0.,  0.,  0.,  0.,  0.],\n",
       "       [ 0.,  0.,  1.,  1.,  0.,  0.,  0.,  0.],\n",
       "       [ 0.,  0.,  0.,  2.,  0.,  0.,  0.,  0.],\n",
       "       [ 0.,  0.,  0.,  0.,  0.,  0.,  0.,  0.],\n",
       "       [ 0.,  0.,  0.,  0.,  0.,  0.,  0.,  0.],\n",
       "       [ 0.,  0.,  0.,  0.,  0.,  0.,  0.,  0.],\n",
       "       [ 0.,  0.,  0.,  0.,  0.,  0.,  0.,  0.],\n",
       "       [ 3.,  1.,  1.,  3.,  0.,  0.,  0.,  0.],\n",
       "       [ 1.,  1.,  1.,  1.,  0.,  0.,  0.,  0.],\n",
       "       [ 1.,  1.,  1.,  2.,  0.,  0.,  0.,  0.],\n",
       "       [ 2.,  2.,  3., 13.,  0.,  3.,  0.,  2.],\n",
       "       [ 0.,  0.,  0.,  0.,  0.,  0.,  0.,  0.],\n",
       "       [ 1.,  1.,  1.,  4.,  0.,  1.,  0.,  1.],\n",
       "       [ 0.,  0.,  0.,  0.,  0.,  0.,  0.,  0.],\n",
       "       [ 0.,  0.,  0.,  2.,  0.,  0.,  0.,  1.],\n",
       "       [ 1.,  0.,  0.,  1.,  0.,  0.,  0.,  0.],\n",
       "       [ 0.,  0.,  0.,  0.,  0.,  0.,  0.,  0.],\n",
       "       [ 0.,  0.,  0.,  0.,  0.,  0.,  0.,  0.],\n",
       "       [ 0.,  0.,  0.,  1.,  0.,  0.,  0.,  0.],\n",
       "       [ 0.,  0.,  0.,  0.,  0.,  0.,  0.,  0.],\n",
       "       [ 0.,  0.,  0.,  0.,  0.,  0.,  0.,  0.],\n",
       "       [ 0.,  0.,  0.,  0.,  0.,  0.,  0.,  0.],\n",
       "       [ 0.,  0.,  0.,  0.,  0.,  0.,  0.,  0.],\n",
       "       [ 1.,  1.,  1.,  1.,  0.,  0.,  0.,  0.],\n",
       "       [ 0.,  0.,  0.,  1.,  0.,  0.,  0.,  0.],\n",
       "       [ 1.,  1.,  1.,  1.,  0.,  0.,  0.,  0.],\n",
       "       [ 2.,  1.,  3., 12.,  0.,  2.,  0.,  2.],\n",
       "       [ 0.,  0.,  0.,  0.,  0.,  0.,  0.,  0.],\n",
       "       [ 0.,  0.,  0.,  0.,  0.,  0.,  0.,  0.],\n",
       "       [ 0.,  0.,  0.,  0.,  0.,  0.,  0.,  0.],\n",
       "       [ 1.,  1.,  1.,  8.,  0.,  0.,  0.,  6.]])"
      ]
     },
     "execution_count": 17,
     "metadata": {},
     "output_type": "execute_result"
    }
   ],
   "source": [
    "actual_row_sum = np.sum(actual, axis = 1)\n",
    "expected = np.zeros((64, 8))\n",
    "\n",
    "for i in range(64):\n",
    "    for j in range(8):\n",
    "        expected[i][j] = mat[i % 8][j] * actual_row_sum[i]\n",
    "np.around(expected)"
   ]
  },
  {
   "cell_type": "code",
   "execution_count": null,
   "metadata": {},
   "outputs": [],
   "source": []
  }
 ],
 "metadata": {
  "kernelspec": {
   "display_name": "Python 3",
   "language": "python",
   "name": "python3"
  },
  "language_info": {
   "codemirror_mode": {
    "name": "ipython",
    "version": 3
   },
   "file_extension": ".py",
   "mimetype": "text/x-python",
   "name": "python",
   "nbconvert_exporter": "python",
   "pygments_lexer": "ipython3",
   "version": "3.7.6"
  }
 },
 "nbformat": 4,
 "nbformat_minor": 4
}
